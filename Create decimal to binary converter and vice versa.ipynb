{
 "cells": [
  {
   "cell_type": "code",
   "execution_count": 1,
   "id": "ac478e63",
   "metadata": {},
   "outputs": [],
   "source": [
    "def BinToDeci(binary_num):\n",
    "    deci_num = int(binary_num, 2)\n",
    "    return deci_num"
   ]
  },
  {
   "cell_type": "code",
   "execution_count": 2,
   "id": "db6a83ef",
   "metadata": {},
   "outputs": [],
   "source": [
    "def decimalToBinary(decimalnum):\n",
    "    return (bin(decimalnum)[2:])\n"
   ]
  },
  {
   "cell_type": "code",
   "execution_count": 3,
   "id": "7b50b088",
   "metadata": {},
   "outputs": [
    {
     "name": "stdout",
     "output_type": "stream",
     "text": [
      "Enter a binary string: 101010\n",
      "Decimal representation of the binary number is:  42\n",
      "Enter a Decimal number: 15\n",
      "Binary representation of a decimal number is:  1111\n"
     ]
    }
   ],
   "source": [
    "binary_num = input('Enter a binary string: ')\n",
    "print('Decimal representation of the binary number is: ', BinToDeci(binary_num))\n",
    "decimalnum= int(input('Enter a Decimal number: '))\n",
    "print('Binary representation of a decimal number is: ', decimalToBinary(decimalnum))"
   ]
  },
  {
   "cell_type": "code",
   "execution_count": null,
   "id": "26bcf943",
   "metadata": {},
   "outputs": [],
   "source": []
  }
 ],
 "metadata": {
  "kernelspec": {
   "display_name": "Python 3 (ipykernel)",
   "language": "python",
   "name": "python3"
  },
  "language_info": {
   "codemirror_mode": {
    "name": "ipython",
    "version": 3
   },
   "file_extension": ".py",
   "mimetype": "text/x-python",
   "name": "python",
   "nbconvert_exporter": "python",
   "pygments_lexer": "ipython3",
   "version": "3.9.12"
  }
 },
 "nbformat": 4,
 "nbformat_minor": 5
}
